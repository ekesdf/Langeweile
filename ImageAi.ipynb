{
  "nbformat": 4,
  "nbformat_minor": 0,
  "metadata": {
    "colab": {
      "name": "ImageAi.ipynb",
      "provenance": [],
      "collapsed_sections": [],
      "mount_file_id": "1OrX8xam7I5IQgLr2jWE3V_zpktmZOMFA",
      "authorship_tag": "ABX9TyPpRGISTuvxF8ytbTiGF0Lm",
      "include_colab_link": true
    },
    "kernelspec": {
      "name": "python3",
      "display_name": "Python 3"
    },
    "accelerator": "GPU"
  },
  "cells": [
    {
      "cell_type": "markdown",
      "metadata": {
        "id": "view-in-github",
        "colab_type": "text"
      },
      "source": [
        "<a href=\"https://colab.research.google.com/github/ekesdf/Langeweile/blob/main/ImageAi.ipynb\" target=\"_parent\"><img src=\"https://colab.research.google.com/assets/colab-badge.svg\" alt=\"Open In Colab\"/></a>"
      ]
    },
    {
      "cell_type": "code",
      "metadata": {
        "id": "i8N4WzisXrCs"
      },
      "source": [
        "!nvidia-smi"
      ],
      "execution_count": null,
      "outputs": []
    },
    {
      "cell_type": "code",
      "metadata": {
        "id": "YIKLrxZsXljF"
      },
      "source": [
        "!pip install opencv-python==4.1.2.30\n",
        "!pip install keras==2.3.1\n",
        "!pip install tensorflow==1.14.0\n",
        "!pip install tensorflow-gpu==1.14.0\n",
        "!pip install imageai"
      ],
      "execution_count": 6,
      "outputs": []
    },
    {
      "cell_type": "code",
      "metadata": {
        "id": "xIo8lsj8DRJZ"
      },
      "source": [
        "from imageai.Detection.Custom import DetectionModelTrainer\n",
        "\n",
        "trainer = DetectionModelTrainer()\n",
        "trainer.setModelTypeAsYOLOv3()\n",
        "trainer.setDataDirectory(data_directory=\"/content/drive/My Drive/Image Ai\")\n",
        "trainer.setTrainConfig(num_objects=10, object_names_array=['Text'], batch_size=4, num_experiments=15, train_from_pretrained_model=\"/content/drive/My Drive/Image Ai/models/detection_model-ex-001--loss-0005.582.h5\")\n",
        "# In the above,when training for detecting multiple objects,\n",
        "#set object_names_array=[\"object1\", \"object2\", \"object3\",...\"objectz\"]\n",
        "trainer.trainModel()"
      ],
      "execution_count": null,
      "outputs": []
    }
  ]
}